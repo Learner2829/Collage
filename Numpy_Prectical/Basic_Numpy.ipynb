{
 "cells": [
  {
   "cell_type": "code",
   "execution_count": 2,
   "id": "c703e681-a1ef-4a26-ad0a-030d7fd8f435",
   "metadata": {},
   "outputs": [],
   "source": [
    "import numpy as np\n"
   ]
  },
  {
   "cell_type": "code",
   "execution_count": 13,
   "id": "716bcb6b-ed7e-4b90-aa6f-49969131f43a",
   "metadata": {},
   "outputs": [
    {
     "name": "stdout",
     "output_type": "stream",
     "text": [
      "<class 'numpy.ndarray'>\n"
     ]
    }
   ],
   "source": [
    "#Create Simple array in numpy\n",
    "arr1 = np.array([1,2,3,4])\n",
    "print(type(arr1))"
   ]
  },
  {
   "cell_type": "code",
   "execution_count": 15,
   "id": "6c6e592e-161c-464a-bc2c-72d4aaf3f26e",
   "metadata": {},
   "outputs": [
    {
     "name": "stdout",
     "output_type": "stream",
     "text": [
      "<class 'numpy.ndarray'>\n"
     ]
    }
   ],
   "source": [
    "#Create two diamention Array\n",
    "arr2 = np.array([[1,2,3],[4,5,6]])\n",
    "print(type(arr2))"
   ]
  },
  {
   "cell_type": "code",
   "execution_count": 17,
   "id": "0a41a4f8-2cc9-49c0-a0c7-277f4b4356b0",
   "metadata": {},
   "outputs": [
    {
     "data": {
      "text/plain": [
       "(2, 3)"
      ]
     },
     "execution_count": 17,
     "metadata": {},
     "output_type": "execute_result"
    }
   ],
   "source": [
    "arr2.shape"
   ]
  },
  {
   "cell_type": "code",
   "execution_count": 33,
   "id": "cadcd57d-4fcb-4f1c-a329-f8b694c01355",
   "metadata": {
    "scrolled": true
   },
   "outputs": [
    {
     "name": "stdout",
     "output_type": "stream",
     "text": [
      "11\n",
      "13\n",
      "15\n",
      "17\n",
      "19\n",
      "21\n",
      "23\n",
      "25\n",
      "27\n"
     ]
    }
   ],
   "source": [
    "#Classical LOOP\n",
    "l1 = [1,2,3,4,5,6,7,8,9]\n",
    "l2 = [10,11,12,13,14,15,16,17,18]\n",
    "# print(x for x in range(l1\n",
    "# for x in range(len(l1)):\n",
    "    # print(l1[x]**2)\n",
    "for x,y in zip(l1,l2):\n",
    "    print(x+y)"
   ]
  },
  {
   "cell_type": "code",
   "execution_count": 42,
   "id": "d675170a-fae9-4c8d-93a1-dbd11598a586",
   "metadata": {},
   "outputs": [
    {
     "data": {
      "text/plain": [
       "array([ 1,  4,  9, 16, 25])"
      ]
     },
     "execution_count": 42,
     "metadata": {},
     "output_type": "execute_result"
    }
   ],
   "source": [
    "#Classical LOOP\n",
    "l3 = np.array([1,2,3,4,5])\n",
    "l4 = np.array([5,6,7,8,9])\n",
    "list_s = [x**2 for x in l3]\n",
    "#Numpy LOOP\n",
    "num_s = l3**2\n",
    "num_s"
   ]
  },
  {
   "cell_type": "code",
   "execution_count": 52,
   "id": "78307a03-aacd-435c-ba1e-da3b4025f79c",
   "metadata": {},
   "outputs": [
    {
     "data": {
      "text/plain": [
       "array([[ 1,  3,  5,  7,  9],\n",
       "       [11, 13, 15, 17, 19]])"
      ]
     },
     "execution_count": 52,
     "metadata": {},
     "output_type": "execute_result"
    }
   ],
   "source": [
    "#create matrix for perticular number\n",
    "np.zeros((3,3))\n",
    "np.ones((2,4))\n",
    "np.full((2,2),7)\n",
    "#crate indetity matrix \n",
    "np.eye(4)\n",
    "#create matrix using range\n",
    "np.arange(1,10,2)\n",
    "#create matrix for custome row column\n",
    "np.arange(1,20,2).reshape(2,5)"
   ]
  }
 ],
 "metadata": {
  "kernelspec": {
   "display_name": "Python 3 (ipykernel)",
   "language": "python",
   "name": "python3"
  },
  "language_info": {
   "codemirror_mode": {
    "name": "ipython",
    "version": 3
   },
   "file_extension": ".py",
   "mimetype": "text/x-python",
   "name": "python",
   "nbconvert_exporter": "python",
   "pygments_lexer": "ipython3",
   "version": "3.12.7"
  }
 },
 "nbformat": 4,
 "nbformat_minor": 5
}
